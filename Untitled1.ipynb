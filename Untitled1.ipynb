{
  "nbformat": 4,
  "nbformat_minor": 0,
  "metadata": {
    "colab": {
      "provenance": [],
      "authorship_tag": "ABX9TyNb5SEhBwGxtEw4PVyIZ6bN",
      "include_colab_link": true
    },
    "kernelspec": {
      "name": "python3",
      "display_name": "Python 3"
    },
    "language_info": {
      "name": "python"
    }
  },
  "cells": [
    {
      "cell_type": "markdown",
      "metadata": {
        "id": "view-in-github",
        "colab_type": "text"
      },
      "source": [
        "<a href=\"https://colab.research.google.com/github/Ranjani-VS/Python-projects/blob/main/Untitled1.ipynb\" target=\"_parent\"><img src=\"https://colab.research.google.com/assets/colab-badge.svg\" alt=\"Open In Colab\"/></a>"
      ]
    },
    {
      "cell_type": "code",
      "execution_count": null,
      "metadata": {
        "id": "SOjpe6DJyKDb"
      },
      "outputs": [],
      "source": [
        "from requests import Request, Session\n",
        "from requests.exceptions import ConnectionError, Timeout, TooManyRedirects\n",
        "import json\n",
        "import pandas as pd\n",
        "import os\n",
        "from time import time,sleep\n",
        "\n",
        "while True:\n",
        "  url = 'https://pro-api.coinmarketcap.com/v1/cryptocurrency/listings/latest'\n",
        "  parameters = {\n",
        "    'start':'1',\n",
        "    'limit':'50',\n",
        "    'convert':'USD'\n",
        "  }\n",
        "  headers = {\n",
        "    'Accepts': 'application/json',\n",
        "    'X-CMC_PRO_API_KEY': '373fc5ed-36a6-4ed5-8c80-a3516629ee6a',\n",
        "  }\n",
        "\n",
        "  session = Session()\n",
        "  session.headers.update(headers)\n",
        "\n",
        "  try:\n",
        "    response = session.get(url, params=parameters)\n",
        "    data = json.loads(response.text)\n",
        "    # print(data)\n",
        "  except (ConnectionError, Timeout, TooManyRedirects) as e:\n",
        "    print(e)\n",
        "\n",
        "  def api_runner():\n",
        "    global df\n",
        "    url = 'https://pro-api.coinmarketcap.com/v1/cryptocurrency/listings/latest'\n",
        "    parameters = {\n",
        "      'start': '1',\n",
        "      'limit': '50',\n",
        "      'convert': 'USD'\n",
        "    }\n",
        "    headers = {\n",
        "      'Accepts': 'application/json',\n",
        "      'X-CMC_PRO_API_KEY': '373fc5ed-36a6-4ed5-8c80-a3516629ee6a',\n",
        "    }\n",
        "\n",
        "    session = Session()\n",
        "    session.headers.update(headers)\n",
        "\n",
        "    try:\n",
        "      response = session.get(url, params=parameters)\n",
        "      data = json.loads(response.text)\n",
        "      # print(data)\n",
        "    except (ConnectionError, Timeout, TooManyRedirects) as e:\n",
        "      print(e)\n",
        "\n",
        "    df = pd.json_normalize(data['data'])\n",
        "    df['timestamp'] = pd.to_datetime('now')\n",
        "\n",
        "\n",
        "    df.rename(columns={\"name\": \"Cryptocurrency Name\", \"symbol\": \"Symbol\", \"quote.USD.price\": \"Current Price (in USD)\",\n",
        "                       \"quote.USD.market_cap\": \"Market Capitalization\", \"quote.USD.volume_24h\": \"24-hour Trading Volume\",\n",
        "                       \"quote.USD.percent_change_24h\": \"Price Change (24-hour,percentage)\"}, inplace=True)\n",
        "\n",
        "    df=df[[\"Cryptocurrency Name\",\"Symbol\",\"Current Price (in USD)\",\"Market Capitalization\",\"24-hour Trading Volume\",\"Price Change (24-hour,percentage)\",\"timestamp\"]]\n",
        "\n",
        "    if not os.path.isfile(r'D:\\API.csv'):\n",
        "      df.to_csv(r'D:\\API.csv', header='column_names')\n",
        "    else:\n",
        "      df.to_csv(r'D:\\API.csv', mode='a', header=False)\n",
        "    df6 = df[[\"Cryptocurrency Name\", \"Market Capitalization\"]].head()\n",
        "    print(f\"Top 5 cryptocurrencies:\\n {df6}\")\n",
        "    df7 = df['Current Price (in USD)'].mean()\n",
        "    print(f\"Aveage of top 50 cryptocurrencies {df7}\")\n",
        "    df8 = df[[\"Cryptocurrency Name\", \"Price Change (24-hour,percentage)\"]].max()\n",
        "    print(f\"Cyrptocurrency with the highest price {df8}\")\n",
        "    df9 = df[[\"Cryptocurrency Name\", \"Price Change (24-hour,percentage)\"]].min()\n",
        "    print(f\"Cyrptocurrency with the highest price {df9}\")\n",
        "\n",
        "  api_runner()\n",
        "  sleep(300)\n",
        "  exit()\n",
        "\n"
      ]
    }
  ]
}